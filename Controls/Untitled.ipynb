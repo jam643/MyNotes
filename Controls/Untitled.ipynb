{
 "cells": [
  {
   "cell_type": "markdown",
   "metadata": {
    "collapsed": true
   },
   "source": [
    "# Linearize Dynamics"
   ]
  },
  {
   "cell_type": "markdown",
   "metadata": {},
   "source": [
    "Linearize dynamical system about an operating point $x_o, u_o$\n",
    "$$\n",
    "\\dot{x} = f(x,u) \\\\\n",
    "\\dot{x} \\approx f(x_o,u_o) + \\dfrac{\\partial{f(x,u)}}{\\partial{x}}|_{x_o,u_o}(x-x_o) + \\dfrac{\\partial{f(x,u)}}{\\partial{u}}|_{x_o,u_o}(u - u_o)\n",
    "$$\n",
    "Change of vars with $x = x_o + \\delta x$, $\\dot{x} = \\dfrac{dx_o}{dt} + \\delta \\dot{x}$, $u = u_o + \\delta u$\n",
    "\n",
    "Assumptions:\n",
    "\n",
    "1) Operating point isn't moving, $\\dfrac{dx_o}{dt} = 0$\n",
    "<br>\n",
    "2) $u_o$ is chosen (with feedforward) to make operating point a fixed point, $f(x_o,u_o)=0$. This may not be possible given actuator limits or $B$ is not full row rank.\n",
    "\n",
    "Then end up with linear/state space system:\n",
    "$$\n",
    "\\delta \\dot{x} = A\\delta x + B \\delta u \n",
    "$$\n",
    "\n",
    "Which is a form that has tools for analyzing local stability that is accurate against non-linear system (Hartman-Grobman theorem).\n"
   ]
  },
  {
   "cell_type": "markdown",
   "metadata": {},
   "source": [
    "# Differential Flattness"
   ]
  },
  {
   "cell_type": "markdown",
   "metadata": {},
   "source": [
    "Intuition: Can usually only control as many DoF as # of actuators, but you get to choose which ones assuming strong inertial coupling. For 2D quadrotor (3DoF, 2 propellers), because it's differentially flat, given desired x, y trajectory can determine which theta, u1, and u2 must be.\n",
    "\n",
    "Caviat: This isn't for designing stabilizing control. It's just for determining feedforward control input given we have a desired trajectory for $m$ DoF (out of $n$) given $m$ actuators. Note, desired trajectory could also be for $u$ or it's derivatives."
   ]
  },
  {
   "cell_type": "code",
   "execution_count": null,
   "metadata": {
    "collapsed": true
   },
   "outputs": [],
   "source": []
  }
 ],
 "metadata": {
  "anaconda-cloud": {},
  "kernelspec": {
   "display_name": "Python [conda env:Anaconda2]",
   "language": "python",
   "name": "conda-env-Anaconda2-py"
  },
  "language_info": {
   "codemirror_mode": {
    "name": "ipython",
    "version": 2
   },
   "file_extension": ".py",
   "mimetype": "text/x-python",
   "name": "python",
   "nbconvert_exporter": "python",
   "pygments_lexer": "ipython2",
   "version": "2.7.12"
  }
 },
 "nbformat": 4,
 "nbformat_minor": 1
}
